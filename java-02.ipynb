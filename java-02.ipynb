{
 "cells": [
  {
   "cell_type": "markdown",
   "id": "4ffb314f-d23f-4a53-8992-eccdb0618526",
   "metadata": {},
   "source": [
    "# Java 02\n",
    "\n",
    "## Estructuras iterativas (bucles)"
   ]
  },
  {
   "cell_type": "code",
   "execution_count": 1,
   "id": "e9ef3933-83b0-490c-a083-67f9ba0f5816",
   "metadata": {},
   "outputs": [
    {
     "name": "stdout",
     "output_type": "stream",
     "text": [
      "Contador = 1\n",
      "Contador = 2\n",
      "Contador = 3\n",
      "Contador = 4\n"
     ]
    }
   ],
   "source": [
    "println(\"Contador = 1\");\n",
    "println(\"Contador = 2\");\n",
    "println(\"Contador = 3\");\n",
    "println(\"Contador = 4\");"
   ]
  },
  {
   "cell_type": "code",
   "execution_count": 4,
   "id": "ebad05be-8f3f-401c-ad7f-08a8b8fd3491",
   "metadata": {},
   "outputs": [
    {
     "name": "stdout",
     "output_type": "stream",
     "text": [
      "Contador = 1\n",
      "Contador = 2\n",
      "Contador = 3\n",
      "Contador = 4\n",
      "Contador = 5\n",
      "Contador = 6\n",
      "Contador = 7\n",
      "Contador = 8\n",
      "Contador = 9\n",
      "Contador = 10\n"
     ]
    }
   ],
   "source": [
    "for(int i = 1; i <= 10   ; i++  ) {\n",
    "    println(\"Contador = \" + i);\n",
    "}"
   ]
  },
  {
   "cell_type": "markdown",
   "id": "faa5a0a0-6e65-4811-9efb-bb5fb071d4e3",
   "metadata": {},
   "source": [
    "## Arrays"
   ]
  },
  {
   "cell_type": "code",
   "execution_count": 9,
   "id": "e0ff42ee-9b91-48a5-b907-d4eed078f07e",
   "metadata": {},
   "outputs": [],
   "source": [
    "double nota1 = 7.6;//Pepito Perez\n",
    "double nota2 = 5.5;//Laura Cases\n",
    "double nota3 = 9.7;//Mar Queralt\n",
    "double nota4 = 4.1;//Jordi Busquets\n",
    "\n",
    "//NO se guardan las notas en variables independientes\n",
    "\n",
    "//Cuando tienes un MONTON de datos que necesitamos gestionar\n",
    "//usamos ESTRUCTURAS DE DATOS multivalor.\n",
    "//Y SOLO NECESITAREMO 1 ÚNICA VARIABLE QUE APUNTE A\n",
    "//ESA ESTRUCTURA DE DATOS.\n",
    "\n",
    "//¿Como accedemos a esos valores que estan dentro de la estuctura\n",
    "// de datos? PUES DEPENDE DE LA ESTRUTURA DE DATOS ELEGIDA\n",
    "\n",
    "//LOS ARRAYS (ARREGLOS O VECTORES) SON ESTRUCTURAS DE DATOS\n",
    "//MULTIVALUADA CUYO ACCESO SE HACE POR ÍNDICE.\n",
    "\n",
    "\n",
    "\n",
    "//....\n",
    "//30 alumnos en mi aula\n",
    "//30 aulas\n",
    "//en cada aula se imparten 3 asignaturas\n",
    "//en total hay 800 alumnos y 45 asignaturas etc.\n",
    "//¿cuántas notas tiene que gestionar mi programa?\n",
    "//4500 notas???????"
   ]
  },
  {
   "cell_type": "code",
   "execution_count": 32,
   "id": "987d5e25-1d3a-4aea-8033-26afca5e9173",
   "metadata": {},
   "outputs": [
    {
     "name": "stdout",
     "output_type": "stream",
     "text": [
      "5.5\n",
      "6.0\n",
      "-------------------\n",
      "Número de notas = 10\n",
      "Suma total = 66.4\n",
      "Average = 6,64 \n",
      "Suma de notas superiores a la media total = 35,80 \n",
      "Nota máxima: 9.9\n",
      "Nota mínima: 3.8\n"
     ]
    }
   ],
   "source": [
    "double[] notas = {7.6, 5.5, 9.7, 4.1, 6.6, 5.1, 3.8, 8.6, 9.9, 5.0};\n",
    "\n",
    "\n",
    "println(notas[1]);\n",
    "notas[1] = 6.0;\n",
    "println(notas[1]);\n",
    "\n",
    "println(\"-------------------\");\n",
    "\n",
    "println(\"Número de notas = \" + notas.length);\n",
    "\n",
    "double suma = 0.0;\n",
    "\n",
    "for(int index = 0; index < notas.length; index++){\n",
    "    suma = suma + notas[index];\n",
    "}\n",
    "\n",
    "println(\"Suma total = \" + suma);\n",
    "\n",
    "double media = suma / notas.length;\n",
    "\n",
    "printf(\"Average = %.2f %n\", media);\n",
    "\n",
    "double suma2 = 0.0;\n",
    "\n",
    "for(int index = 0; index < notas.length; index++){\n",
    "    if(notas[index] >= media)\n",
    "        suma2 = suma2 + notas[index];\n",
    "}\n",
    "\n",
    "printf(\"Suma de notas superiores a la media total = %.2f %n\", suma2);\n",
    "\n",
    "//TODO (nota máxima)\n",
    "\n",
    "double max = notas[0];\n",
    "for(int index = 1; index < notas.length; index++)\n",
    "    if(notas[index] > max)\n",
    "        max = notas[index];\n",
    "println(\"Nota máxima: \" + max);\n",
    "\n",
    "double min = notas[0];\n",
    "for(int index = 1; index < notas.length; index++)\n",
    "    if(notas[index] < min)\n",
    "        min = notas[index];\n",
    "println(\"Nota mínima: \" + min);\n",
    "\n",
    "//Ejercicio: imprimir la suma de todos los elementos del array.\n",
    "//Ejercicio: obtener (e imprimir) la nota media de la clase.\n",
    "//Ejercicio: imprimir la suma de todos los elementos del array\n",
    "//que sean mayores (o iguales) que la media de todas las notas\n",
    "//Ejercicio: imprimid por pantalla la nota máxima.\n",
    "\n",
    "//Ejercicio: me hacéis un \"swap\" del valor máximo \n",
    "//con el valor que está en la última posicion del array\n",
    "\n",
    "notas[indexMaximo] \n",
    "notas[notas.length - 1]\n",
    "\n",
    "int aux = a;\n",
    "a = b;\n",
    "b = aux;\n",
    "\n",
    "\n"
   ]
  },
  {
   "cell_type": "code",
   "execution_count": 42,
   "id": "11e1682c-7b8e-4ed4-bd39-5b26e2d43cc9",
   "metadata": {},
   "outputs": [
    {
     "name": "stdout",
     "output_type": "stream",
     "text": [
      "[7.6, 5.5, 9.7, 4.1, 6.6, 5.1, 3.8, 8.6, 9.9, 5.0]"
     ]
    }
   ],
   "source": [
    "double[] values;\n",
    "values = new double[]{7.6, 5.5, 9.7, 4.1, 6.6, 5.1, 3.8, 8.6, 9.9, 5.0};\n",
    "\n",
    "\n",
    "\n",
    "\n",
    "\n",
    "print(Arrays.toString(values));"
   ]
  },
  {
   "cell_type": "code",
   "execution_count": 46,
   "id": "f53bc3c6-80ef-4375-9553-461c79fb0591",
   "metadata": {},
   "outputs": [
    {
     "name": "stdout",
     "output_type": "stream",
     "text": [
      "[4.4, 7.6, 0.0, 0.0]"
     ]
    }
   ],
   "source": [
    "//Puedo CREAR un array sin saber sus valores de antemano??????\n",
    "\n",
    "//double[] values2;//Aquí NO ESTOY CREANDO UN ARRAY: estoy DECLARANDO una variable.\n",
    "\n",
    "double[] values2 = new double[4]; //CREO un array (sin saber los valores)\n",
    "//de longitud 4\n",
    "\n",
    "values2[0] = 4.4;\n",
    "values2[1] = 7.6;\n",
    "\n",
    "print(Arrays.toString(values2));"
   ]
  },
  {
   "cell_type": "code",
   "execution_count": 48,
   "id": "8e779263-71ed-4f6a-a3d6-49265a7cf862",
   "metadata": {},
   "outputs": [
    {
     "name": "stdout",
     "output_type": "stream",
     "text": [
      "[0, 0, 0, 8]"
     ]
    }
   ],
   "source": [
    "int[] enteros = new int[4];\n",
    "\n",
    "enteros[3] = 8;\n",
    "\n",
    "print(Arrays.toString(enteros));"
   ]
  },
  {
   "cell_type": "code",
   "execution_count": 49,
   "id": "59f67b65-e0c3-4453-9e28-e2505ac5b5ca",
   "metadata": {},
   "outputs": [
    {
     "name": "stdout",
     "output_type": "stream",
     "text": [
      "[\u0000, \u0000, J, \u0000]"
     ]
    }
   ],
   "source": [
    "char[] caracters = new char[4];\n",
    "\n",
    "caracters[2] = 'J';\n",
    "\n",
    "print(Arrays.toString(caracters));"
   ]
  },
  {
   "cell_type": "code",
   "execution_count": 59,
   "id": "0736718e-836e-44aa-9d11-e7451a610126",
   "metadata": {},
   "outputs": [
    {
     "name": "stdout",
     "output_type": "stream",
     "text": [
      "[false, true, false, false]"
     ]
    }
   ],
   "source": [
    "boolean[] boleanos = new boolean[4];\n",
    "\n",
    "boleanos[1] = !false;\n",
    "\n",
    "print(Arrays.toString(boleanos));"
   ]
  },
  {
   "cell_type": "code",
   "execution_count": 58,
   "id": "0cf21aa0-f46d-4ca4-b2ed-87a069e2fc49",
   "metadata": {},
   "outputs": [
    {
     "name": "stdout",
     "output_type": "stream",
     "text": [
      "[3, 5, -2, 8]"
     ]
    }
   ],
   "source": [
    "int[] enteros = new int[]{3, 5, -2, 8};\n",
    "\n",
    "print(Arrays.toString(enteros));"
   ]
  },
  {
   "cell_type": "code",
   "execution_count": 60,
   "id": "e53971ad-a30c-4f2f-bc17-6be70d4809a9",
   "metadata": {},
   "outputs": [
    {
     "name": "stdout",
     "output_type": "stream",
     "text": [
      "[null, null, null, null]"
     ]
    }
   ],
   "source": [
    "//String NO ES PRIMITIVO\n",
    "\n",
    "String[] palabras = new String[4]; //\"\" ????\n",
    "\n",
    "print(Arrays.toString(palabras));"
   ]
  },
  {
   "cell_type": "markdown",
   "id": "a00f6e6e-f647-4de0-89a5-854b82ed56ef",
   "metadata": {},
   "source": [
    "1. Ejercicios de ayer\n",
    "2. Referencia vs copia (memoria)\n",
    "3. Referencia vs copia (ejemplos)\n",
    "4. Excepciones NullPointer e IndexOutOfBounds\n",
    "5. FUNCIONES"
   ]
  },
  {
   "cell_type": "code",
   "execution_count": 4,
   "id": "4368e8b5-610b-443d-b6ac-fa3bb8418053",
   "metadata": {},
   "outputs": [
    {
     "name": "stdout",
     "output_type": "stream",
     "text": [
      "Antes -------\n",
      "n = 5\n",
      "k = 5\n",
      "Despues -------\n",
      "n = 4\n",
      "k = 5\n"
     ]
    }
   ],
   "source": [
    "println(\"Antes -------\");\n",
    "int n = 5;\n",
    "println(\"n = \" + n);\n",
    "int k = n;\n",
    "println(\"k = \" + k);\n",
    "\n",
    "println(\"Despues -------\");\n",
    "n = 4;\n",
    "println(\"n = \" + n);\n",
    "println(\"k = \" + k);"
   ]
  },
  {
   "cell_type": "code",
   "execution_count": 8,
   "id": "5c772b41-6c99-4275-a2ce-002a83fdc412",
   "metadata": {},
   "outputs": [
    {
     "name": "stdout",
     "output_type": "stream",
     "text": [
      "Antes -------\n",
      "nums1 = [3, 6, 1]\n",
      "nums2 = [3, 6, 1]\n",
      "Despues -------\n",
      "nums1 = [-1, 6, -99]\n",
      "nums2 = [-1, 6, -99]\n"
     ]
    }
   ],
   "source": [
    "println(\"Antes -------\");\n",
    "int[] nums1 = new int[]{3,6,1};\n",
    "int[] nums2 = nums1;\n",
    "println(\"nums1 = \" + Arrays.toString(nums1));\n",
    "println(\"nums2 = \" + Arrays.toString(nums2));\n",
    "\n",
    "println(\"Despues -------\");\n",
    "nums2[0] = -1;\n",
    "nums1[2] = -99;\n",
    "println(\"nums1 = \" + Arrays.toString(nums1));\n",
    "println(\"nums2 = \" + Arrays.toString(nums2));"
   ]
  },
  {
   "cell_type": "code",
   "execution_count": 9,
   "id": "ce5eacb4-92b3-44da-9190-dc62c81397a1",
   "metadata": {},
   "outputs": [
    {
     "name": "stdout",
     "output_type": "stream",
     "text": [
      "Antes -------\n",
      "nums1 = [3, 6, 1]\n",
      "nums2 = [3, 6, 1]\n",
      "Despues -------\n",
      "nums1 = [3, 6, -99]\n",
      "nums2 = [-1, 6, 1]\n"
     ]
    }
   ],
   "source": [
    "println(\"Antes -------\");\n",
    "int[] nums1 = new int[]{3,6,1};\n",
    "int[] nums2 = new int[]{3,6,1};\n",
    "println(\"nums1 = \" + Arrays.toString(nums1));\n",
    "println(\"nums2 = \" + Arrays.toString(nums2));\n",
    "\n",
    "println(\"Despues -------\");\n",
    "nums2[0] = -1;\n",
    "nums1[2] = -99;\n",
    "println(\"nums1 = \" + Arrays.toString(nums1));\n",
    "println(\"nums2 = \" + Arrays.toString(nums2));"
   ]
  },
  {
   "cell_type": "markdown",
   "id": "16cb8645-34c7-4581-8ef2-1c06c9a365c0",
   "metadata": {},
   "source": [
    "### Excepciones NullPointer e IndexOutOfBounds"
   ]
  },
  {
   "cell_type": "code",
   "execution_count": 43,
   "id": "f5637536-10b0-4500-8c47-213ac07890c5",
   "metadata": {},
   "outputs": [
    {
     "name": "stdout",
     "output_type": "stream",
     "text": [
      "null\n"
     ]
    },
    {
     "ename": "EvalException",
     "evalue": "null",
     "output_type": "error",
     "traceback": [
      "\u001b[1m\u001b[31m---------------------------------------------------------------------------\u001b[0m",
      "\u001b[1m\u001b[31mjava.lang.NullPointerException: null\u001b[0m",
      "\u001b[1m\u001b[31m\tat .(#102:1)\u001b[0m"
     ]
    }
   ],
   "source": [
    "int[] numeros; //es \n",
    "\n",
    "println(Arrays.toString(numeros));\n",
    "\n",
    "println(numeros.length);//puedo obtener la longitud de un null?\n"
   ]
  },
  {
   "cell_type": "code",
   "execution_count": 39,
   "id": "00ccf864-fa1e-4eb0-a2f5-ffa92fcb6160",
   "metadata": {},
   "outputs": [
    {
     "name": "stdout",
     "output_type": "stream",
     "text": [
      "44\n",
      "-33\n",
      "101\n"
     ]
    },
    {
     "ename": "EvalException",
     "evalue": "Index 3 out of bounds for length 3",
     "output_type": "error",
     "traceback": [
      "\u001b[1m\u001b[31m---------------------------------------------------------------------------\u001b[0m",
      "\u001b[1m\u001b[31mjava.lang.ArrayIndexOutOfBoundsException: Index 3 out of bounds for length 3\u001b[0m",
      "\u001b[1m\u001b[31m\tat .(#97:4)\u001b[0m"
     ]
    }
   ],
   "source": [
    "int[] numeros = new int[]{44,-33,101}; \n",
    "\n",
    "for(int index = 0; index <= numeros.length; index++)\n",
    "    println(numeros[index]);"
   ]
  },
  {
   "cell_type": "markdown",
   "id": "5100c9ba-6dea-49ea-b920-c7c2d2fa05c8",
   "metadata": {},
   "source": [
    "## foreach"
   ]
  },
  {
   "cell_type": "code",
   "execution_count": 51,
   "id": "1703c090-f904-4ee1-a186-b513680a245d",
   "metadata": {},
   "outputs": [
    {
     "name": "stdout",
     "output_type": "stream",
     "text": [
      "No es lo que busco: J\n",
      "No es lo que busco: a\n",
      "Encontrado !!! : v\n"
     ]
    }
   ],
   "source": [
    "char[] letras = new char[]{'J','a','v','a'};\n",
    "\n",
    "boolean found = false;\n",
    "char v = 'v';\n",
    "for(int index = 0; index < letras.length && !found; index++){\n",
    "    if(letras[index] == v){\n",
    "        found = true;\n",
    "        println(\"Encontrado !!! : \" + letras[index]);\n",
    "    } else \n",
    "        println(\"No es lo que busco: \" + letras[index]);\n",
    "}"
   ]
  },
  {
   "cell_type": "code",
   "execution_count": 53,
   "id": "1a10bca4-88f6-4c9d-bc95-e4d52406a0ce",
   "metadata": {},
   "outputs": [
    {
     "name": "stdout",
     "output_type": "stream",
     "text": [
      "No es lo que busco: J\n",
      "No es lo que busco: a\n",
      "Encontrado !!! : v\n"
     ]
    }
   ],
   "source": [
    "char[] letras = new char[]{'J','a','v','a'};\n",
    "\n",
    "//foreach ----------> NO NECESITA INDEX\n",
    "for(char c : letras) //compacta\n",
    "    if(c == v){\n",
    "        println(\"Encontrado !!! : \" + c);\n",
    "        break;\n",
    "    } else \n",
    "        println(\"No es lo que busco: \" + c);"
   ]
  },
  {
   "cell_type": "markdown",
   "id": "b16cf40b-9594-47ca-afb4-598831aeac26",
   "metadata": {},
   "source": [
    "# FUNCIONES"
   ]
  },
  {
   "cell_type": "code",
   "execution_count": 68,
   "id": "28e5ef26-4694-4f36-a054-69216d760e91",
   "metadata": {},
   "outputs": [
    {
     "name": "stdout",
     "output_type": "stream",
     "text": [
      "Nota máxima de esta Aula: 9.9\n",
      "Nota máxima de esta Aula: 9.1\n",
      "Nota máxima de esta Aula: 9.0\n"
     ]
    }
   ],
   "source": [
    "double[] notas1 = {7.6, 5.5, 9.7, 4.1, 6.6, 5.1, 3.8, 8.6, 9.9, 5.0};//Aula 1\n",
    "\n",
    "double[] notas2 = {5.0, 4.5, 6.2, 4.9, 7.2, 8.4, 6.5, 3.8, 9.1, 5.7};//Aula 2\n",
    "\n",
    "double[] notas3 = {4.5, 6.8, 6.3, 7.9, 7.1, 3.7, 6.0, 9.0, 8.9, 7.3};//Aula 3\n",
    "\n",
    "//LAS FUNCIONES SON BLOQUES DE CÓDIGO {...} CON NOMBRE\n",
    "//DE MANERA QUE PODREMOS EJECUTAR TANTAS VECES COMO NECESITEMOS\n",
    "//O QUERAMOS TODO EL CÓDIGO QUE CONTIENEN\n",
    "//---> NO TENEMOS QUE REPETIR EL CÓDIGO\n",
    "\n",
    "void notaMaxima(double[] cualificaciones) { //Defino la funcion PERO no la estoy usando\n",
    "    double max = cualificaciones[0];\n",
    "    for(int index = 1; index < cualificaciones.length; index++)\n",
    "        if(cualificaciones[index] > max)\n",
    "            max = cualificaciones[index];\n",
    "    println(\"Nota máxima de esta Aula: \" + max);\n",
    "}\n",
    "\n",
    "//LLAMO A LA FUNCIÓN notaMaxima\n",
    "//for(int i = 1; i <= 15; i++)\n",
    "notaMaxima(notas1);\n",
    "notaMaxima(notas2);\n",
    "notaMaxima(notas3);\n"
   ]
  },
  {
   "cell_type": "code",
   "execution_count": 70,
   "id": "bde1e8f6-bef0-42ba-9047-798f4e8b979e",
   "metadata": {},
   "outputs": [
    {
     "name": "stdout",
     "output_type": "stream",
     "text": [
      "Nota mínima: 3.8\n",
      "Nota mínima: 3.2\n",
      "Nota mínima: 3.7\n"
     ]
    }
   ],
   "source": [
    "double[] notas1 = {7.6, 5.5, 9.7, 4.1, 6.6, 5.1, 3.8, 8.6, 9.9, 5.0};//Aula 1\n",
    "\n",
    "double[] notas2 = {5.0, 4.5, 6.2, 4.9, 7.2, 8.4, 6.5, 3.2, 9.1, 5.7};//Aula 2\n",
    "\n",
    "double[] notas3 = {4.5, 6.8, 6.3, 7.9, 7.1, 3.7, 6.0, 9.0, 8.9, 7.3};//Aula 3\n",
    "\n",
    "\n",
    "void notaMinima(double[] notas){\n",
    "    double min = notas[0];\n",
    "    for(int index = 1; index < notas.length; index++)\n",
    "        if(notas[index] < min)\n",
    "            min = notas[index];\n",
    "    println(\"Nota mínima: \" + min);\n",
    "}\n",
    "\n",
    "notaMinima(notas1);\n",
    "notaMinima(notas2);\n",
    "notaMinima(notas3);"
   ]
  },
  {
   "cell_type": "code",
   "execution_count": 72,
   "id": "d4629c3e-d444-4086-a37f-d7f63c6be39f",
   "metadata": {},
   "outputs": [
    {
     "name": "stdout",
     "output_type": "stream",
     "text": [
      "true\n",
      "true\n",
      "false\n"
     ]
    }
   ],
   "source": [
    "//HACED UNA FUNCION QUE PARA UN NUMERO ENTERO n \n",
    "//IMPRIMA POR PANTALLA\n",
    "//true si n es primo\n",
    "//false si n NO es primo\n",
    "\n",
    "void isPrime(int n){\n",
    "    //Presupongo que n es primo\n",
    "    boolean isPrime = true;\n",
    "    for(int i = 2; i <= n/2; i++){\n",
    "        if(n % i == 0) {\n",
    "            isPrime = false;\n",
    "            break;\n",
    "        }\n",
    "    }\n",
    "    println(isPrime);        \n",
    "}\n",
    "\n",
    "isPrime(5);\n",
    "isPrime(17);\n",
    "isPrime(36);\n",
    "\n"
   ]
  },
  {
   "cell_type": "code",
   "execution_count": 76,
   "id": "e1f902ee-7adf-4907-853d-48fc35d61688",
   "metadata": {},
   "outputs": [
    {
     "name": "stdout",
     "output_type": "stream",
     "text": [
      "8 x 1 = 8 \n",
      "8 x 2 = 16 \n",
      "8 x 3 = 24 \n",
      "8 x 4 = 32 \n",
      "8 x 5 = 40 \n",
      "8 x 6 = 48 \n",
      "8 x 7 = 56 \n",
      "8 x 8 = 64 \n",
      "8 x 9 = 72 \n",
      "8 x 10 = 80 \n",
      "\n",
      "-5 x 1 = -5 \n",
      "-5 x 2 = -10 \n",
      "-5 x 3 = -15 \n",
      "-5 x 4 = -20 \n",
      "-5 x 5 = -25 \n",
      "-5 x 6 = -30 \n",
      "-5 x 7 = -35 \n",
      "-5 x 8 = -40 \n",
      "-5 x 9 = -45 \n",
      "-5 x 10 = -50 \n",
      "\n"
     ]
    }
   ],
   "source": [
    "//una funcion que imprima por pantalla\n",
    "//la tabla de multiplicar de un número dado n entre 1 y 10\n",
    "\n",
    "void tablaMultiplicar(int n){\n",
    "    int maxtabla = 10;\n",
    "    //Usant un bucle (for), m'imprimeixi per pantalla la \n",
    "    //taula de multiplicar de n\n",
    "\n",
    "    for (int counter = 1; counter <= maxtabla; counter++){\n",
    "        System.out.printf(\"%d x %d = %d %n\", n, counter, n * counter);\n",
    "    }\n",
    "    println(\"\");\n",
    "}\n",
    "\n",
    "tablaMultiplicar(8);\n",
    "tablaMultiplicar(5);\n"
   ]
  },
  {
   "cell_type": "code",
   "execution_count": null,
   "id": "f3fb1f5e-a37c-4b1f-9177-d41e3630b76d",
   "metadata": {},
   "outputs": [],
   "source": [
    "//dado un número N, haced una FUNCION usando\n",
    "//bucles y condicionales, que me imprima\n",
    "//por pantalla TODOS los números primos\n",
    "//entre 2 y N (incluidos)\n",
    "\n",
    "void printAllPrimes(............){\n",
    "\n",
    "    //TODO\n",
    "    \n",
    "}\n",
    "\n",
    "printAllPrimes(78); //imprime TODOS los números primos\n",
    "                    //entre 2 y 78\n",
    "\n",
    "printAllPrimes(27);"
   ]
  }
 ],
 "metadata": {
  "kernelspec": {
   "display_name": "Java",
   "language": "java",
   "name": "java"
  },
  "language_info": {
   "codemirror_mode": "java",
   "file_extension": ".jshell",
   "mimetype": "text/x-java-source",
   "name": "Java",
   "pygments_lexer": "java",
   "version": "11.0.17+8-LTS"
  }
 },
 "nbformat": 4,
 "nbformat_minor": 5
}
