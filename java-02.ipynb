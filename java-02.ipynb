{
 "cells": [
  {
   "cell_type": "markdown",
   "id": "4ffb314f-d23f-4a53-8992-eccdb0618526",
   "metadata": {},
   "source": [
    "# Java 02\n",
    "\n",
    "## Estructuras iterativas (bucles)"
   ]
  },
  {
   "cell_type": "code",
   "execution_count": 1,
   "id": "e9ef3933-83b0-490c-a083-67f9ba0f5816",
   "metadata": {},
   "outputs": [
    {
     "name": "stdout",
     "output_type": "stream",
     "text": [
      "Contador = 1\n",
      "Contador = 2\n",
      "Contador = 3\n",
      "Contador = 4\n"
     ]
    }
   ],
   "source": [
    "println(\"Contador = 1\");\n",
    "println(\"Contador = 2\");\n",
    "println(\"Contador = 3\");\n",
    "println(\"Contador = 4\");"
   ]
  },
  {
   "cell_type": "code",
   "execution_count": 4,
   "id": "ebad05be-8f3f-401c-ad7f-08a8b8fd3491",
   "metadata": {},
   "outputs": [
    {
     "name": "stdout",
     "output_type": "stream",
     "text": [
      "Contador = 1\n",
      "Contador = 2\n",
      "Contador = 3\n",
      "Contador = 4\n",
      "Contador = 5\n",
      "Contador = 6\n",
      "Contador = 7\n",
      "Contador = 8\n",
      "Contador = 9\n",
      "Contador = 10\n"
     ]
    }
   ],
   "source": [
    "for(int i = 1; i <= 10   ; i++  ) {\n",
    "    println(\"Contador = \" + i);\n",
    "}"
   ]
  },
  {
   "cell_type": "markdown",
   "id": "faa5a0a0-6e65-4811-9efb-bb5fb071d4e3",
   "metadata": {},
   "source": [
    "## Arrays"
   ]
  },
  {
   "cell_type": "code",
   "execution_count": 9,
   "id": "e0ff42ee-9b91-48a5-b907-d4eed078f07e",
   "metadata": {},
   "outputs": [],
   "source": [
    "double nota1 = 7.6;//Pepito Perez\n",
    "double nota2 = 5.5;//Laura Cases\n",
    "double nota3 = 9.7;//Mar Queralt\n",
    "double nota4 = 4.1;//Jordi Busquets\n",
    "\n",
    "//NO se guardan las notas en variables independientes\n",
    "\n",
    "//Cuando tienes un MONTON de datos que necesitamos gestionar\n",
    "//usamos ESTRUCTURAS DE DATOS multivalor.\n",
    "//Y SOLO NECESITAREMO 1 ÚNICA VARIABLE QUE APUNTE A\n",
    "//ESA ESTRUCTURA DE DATOS.\n",
    "\n",
    "//¿Como accedemos a esos valores que estan dentro de la estuctura\n",
    "// de datos? PUES DEPENDE DE LA ESTRUTURA DE DATOS ELEGIDA\n",
    "\n",
    "//LOS ARRAYS (ARREGLOS O VECTORES) SON ESTRUCTURAS DE DATOS\n",
    "//MULTIVALUADA CUYO ACCESO SE HACE POR ÍNDICE.\n",
    "\n",
    "\n",
    "\n",
    "//....\n",
    "//30 alumnos en mi aula\n",
    "//30 aulas\n",
    "//en cada aula se imparten 3 asignaturas\n",
    "//en total hay 800 alumnos y 45 asignaturas etc.\n",
    "//¿cuántas notas tiene que gestionar mi programa?\n",
    "//4500 notas???????"
   ]
  },
  {
   "cell_type": "code",
   "execution_count": 32,
   "id": "987d5e25-1d3a-4aea-8033-26afca5e9173",
   "metadata": {},
   "outputs": [
    {
     "name": "stdout",
     "output_type": "stream",
     "text": [
      "5.5\n",
      "6.0\n",
      "-------------------\n",
      "Número de notas = 10\n",
      "Suma total = 66.4\n",
      "Average = 6,64 \n",
      "Suma de notas superiores a la media total = 35,80 \n",
      "Nota máxima: 9.9\n",
      "Nota mínima: 3.8\n"
     ]
    }
   ],
   "source": [
    "double[] notas = {7.6, 5.5, 9.7, 4.1, 6.6, 5.1, 3.8, 8.6, 9.9, 5.0};\n",
    "\n",
    "\n",
    "println(notas[1]);\n",
    "notas[1] = 6.0;\n",
    "println(notas[1]);\n",
    "\n",
    "println(\"-------------------\");\n",
    "\n",
    "println(\"Número de notas = \" + notas.length);\n",
    "\n",
    "double suma = 0.0;\n",
    "\n",
    "for(int index = 0; index < notas.length; index++){\n",
    "    suma = suma + notas[index];\n",
    "}\n",
    "\n",
    "println(\"Suma total = \" + suma);\n",
    "\n",
    "double media = suma / notas.length;\n",
    "\n",
    "printf(\"Average = %.2f %n\", media);\n",
    "\n",
    "double suma2 = 0.0;\n",
    "\n",
    "for(int index = 0; index < notas.length; index++){\n",
    "    if(notas[index] >= media)\n",
    "        suma2 = suma2 + notas[index];\n",
    "}\n",
    "\n",
    "printf(\"Suma de notas superiores a la media total = %.2f %n\", suma2);\n",
    "\n",
    "//TODO (nota máxima)\n",
    "\n",
    "double max = notas[0];\n",
    "for(int index = 1; index < notas.length; index++)\n",
    "    if(notas[index] > max)\n",
    "        max = notas[index];\n",
    "println(\"Nota máxima: \" + max);\n",
    "\n",
    "double min = notas[0];\n",
    "for(int index = 1; index < notas.length; index++)\n",
    "    if(notas[index] < min)\n",
    "        min = notas[index];\n",
    "println(\"Nota mínima: \" + min);\n",
    "\n",
    "//Ejercicio: imprimir la suma de todos los elementos del array.\n",
    "//Ejercicio: obtener (e imprimir) la nota media de la clase.\n",
    "//Ejercicio: imprimir la suma de todos los elementos del array\n",
    "//que sean mayores (o iguales) que la media de todas las notas\n",
    "//Ejercicio: imprimid por pantalla la nota máxima.\n",
    "\n",
    "//Ejercicio: me hacéis un \"swap\" del valor máximo \n",
    "//con el valor que está en la última posicion del array\n",
    "\n",
    "notas[indexMaximo] \n",
    "notas[notas.length - 1]\n",
    "\n",
    "int aux = a;\n",
    "a = b;\n",
    "b = aux;\n",
    "\n",
    "\n"
   ]
  },
  {
   "cell_type": "code",
   "execution_count": 42,
   "id": "11e1682c-7b8e-4ed4-bd39-5b26e2d43cc9",
   "metadata": {},
   "outputs": [
    {
     "name": "stdout",
     "output_type": "stream",
     "text": [
      "[7.6, 5.5, 9.7, 4.1, 6.6, 5.1, 3.8, 8.6, 9.9, 5.0]"
     ]
    }
   ],
   "source": [
    "double[] values;\n",
    "values = new double[]{7.6, 5.5, 9.7, 4.1, 6.6, 5.1, 3.8, 8.6, 9.9, 5.0};\n",
    "\n",
    "\n",
    "\n",
    "\n",
    "\n",
    "print(Arrays.toString(values));"
   ]
  },
  {
   "cell_type": "code",
   "execution_count": 46,
   "id": "f53bc3c6-80ef-4375-9553-461c79fb0591",
   "metadata": {},
   "outputs": [
    {
     "name": "stdout",
     "output_type": "stream",
     "text": [
      "[4.4, 7.6, 0.0, 0.0]"
     ]
    }
   ],
   "source": [
    "//Puedo CREAR un array sin saber sus valores de antemano??????\n",
    "\n",
    "//double[] values2;//Aquí NO ESTOY CREANDO UN ARRAY: estoy DECLARANDO una variable.\n",
    "\n",
    "double[] values2 = new double[4]; //CREO un array (sin saber los valores)\n",
    "//de longitud 4\n",
    "\n",
    "values2[0] = 4.4;\n",
    "values2[1] = 7.6;\n",
    "\n",
    "print(Arrays.toString(values2));"
   ]
  },
  {
   "cell_type": "code",
   "execution_count": 48,
   "id": "8e779263-71ed-4f6a-a3d6-49265a7cf862",
   "metadata": {},
   "outputs": [
    {
     "name": "stdout",
     "output_type": "stream",
     "text": [
      "[0, 0, 0, 8]"
     ]
    }
   ],
   "source": [
    "int[] enteros = new int[4];\n",
    "\n",
    "enteros[3] = 8;\n",
    "\n",
    "print(Arrays.toString(enteros));"
   ]
  },
  {
   "cell_type": "code",
   "execution_count": 49,
   "id": "59f67b65-e0c3-4453-9e28-e2505ac5b5ca",
   "metadata": {},
   "outputs": [
    {
     "name": "stdout",
     "output_type": "stream",
     "text": [
      "[\u0000, \u0000, J, \u0000]"
     ]
    }
   ],
   "source": [
    "char[] caracters = new char[4];\n",
    "\n",
    "caracters[2] = 'J';\n",
    "\n",
    "print(Arrays.toString(caracters));"
   ]
  },
  {
   "cell_type": "code",
   "execution_count": 59,
   "id": "0736718e-836e-44aa-9d11-e7451a610126",
   "metadata": {},
   "outputs": [
    {
     "name": "stdout",
     "output_type": "stream",
     "text": [
      "[false, true, false, false]"
     ]
    }
   ],
   "source": [
    "boolean[] boleanos = new boolean[4];\n",
    "\n",
    "boleanos[1] = !false;\n",
    "\n",
    "print(Arrays.toString(boleanos));"
   ]
  },
  {
   "cell_type": "code",
   "execution_count": 58,
   "id": "0cf21aa0-f46d-4ca4-b2ed-87a069e2fc49",
   "metadata": {},
   "outputs": [
    {
     "name": "stdout",
     "output_type": "stream",
     "text": [
      "[3, 5, -2, 8]"
     ]
    }
   ],
   "source": [
    "int[] enteros = new int[]{3, 5, -2, 8};\n",
    "\n",
    "print(Arrays.toString(enteros));"
   ]
  },
  {
   "cell_type": "code",
   "execution_count": 60,
   "id": "e53971ad-a30c-4f2f-bc17-6be70d4809a9",
   "metadata": {},
   "outputs": [
    {
     "name": "stdout",
     "output_type": "stream",
     "text": [
      "[null, null, null, null]"
     ]
    }
   ],
   "source": [
    "//String NO ES PRIMITIVO\n",
    "\n",
    "String[] palabras = new String[4]; //\"\" ????\n",
    "\n",
    "print(Arrays.toString(palabras));"
   ]
  }
 ],
 "metadata": {
  "kernelspec": {
   "display_name": "Java",
   "language": "java",
   "name": "java"
  },
  "language_info": {
   "codemirror_mode": "java",
   "file_extension": ".jshell",
   "mimetype": "text/x-java-source",
   "name": "Java",
   "pygments_lexer": "java",
   "version": "11.0.17+8-LTS"
  }
 },
 "nbformat": 4,
 "nbformat_minor": 5
}
