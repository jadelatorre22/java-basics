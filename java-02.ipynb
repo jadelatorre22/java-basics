{
 "cells": [
  {
   "cell_type": "markdown",
   "id": "4ffb314f-d23f-4a53-8992-eccdb0618526",
   "metadata": {},
   "source": [
    "# Java 02\n",
    "\n",
    "## Estructuras iterativas (bucles)"
   ]
  },
  {
   "cell_type": "code",
   "execution_count": 1,
   "id": "e9ef3933-83b0-490c-a083-67f9ba0f5816",
   "metadata": {},
   "outputs": [
    {
     "name": "stdout",
     "output_type": "stream",
     "text": [
      "Contador = 1\n",
      "Contador = 2\n",
      "Contador = 3\n",
      "Contador = 4\n"
     ]
    }
   ],
   "source": [
    "println(\"Contador = 1\");\n",
    "println(\"Contador = 2\");\n",
    "println(\"Contador = 3\");\n",
    "println(\"Contador = 4\");"
   ]
  },
  {
   "cell_type": "code",
   "execution_count": 4,
   "id": "ebad05be-8f3f-401c-ad7f-08a8b8fd3491",
   "metadata": {},
   "outputs": [
    {
     "name": "stdout",
     "output_type": "stream",
     "text": [
      "Contador = 1\n",
      "Contador = 2\n",
      "Contador = 3\n",
      "Contador = 4\n",
      "Contador = 5\n",
      "Contador = 6\n",
      "Contador = 7\n",
      "Contador = 8\n",
      "Contador = 9\n",
      "Contador = 10\n"
     ]
    }
   ],
   "source": [
    "for(int i = 1; i <= 10   ; i++  ) {\n",
    "    println(\"Contador = \" + i);\n",
    "}"
   ]
  },
  {
   "cell_type": "markdown",
   "id": "faa5a0a0-6e65-4811-9efb-bb5fb071d4e3",
   "metadata": {},
   "source": [
    "## Arrays"
   ]
  },
  {
   "cell_type": "code",
   "execution_count": null,
   "id": "e0ff42ee-9b91-48a5-b907-d4eed078f07e",
   "metadata": {},
   "outputs": [],
   "source": []
  },
  {
   "cell_type": "code",
   "execution_count": null,
   "id": "987d5e25-1d3a-4aea-8033-26afca5e9173",
   "metadata": {},
   "outputs": [],
   "source": []
  }
 ],
 "metadata": {
  "kernelspec": {
   "display_name": "Java",
   "language": "java",
   "name": "java"
  },
  "language_info": {
   "codemirror_mode": "java",
   "file_extension": ".jshell",
   "mimetype": "text/x-java-source",
   "name": "Java",
   "pygments_lexer": "java",
   "version": "11.0.17+8-LTS"
  }
 },
 "nbformat": 4,
 "nbformat_minor": 5
}
