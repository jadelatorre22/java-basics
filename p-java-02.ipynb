{
 "cells": [
  {
   "cell_type": "markdown",
   "id": "92c8c154-a24e-47c6-82dd-9df5cb33e287",
   "metadata": {},
   "source": [
    "# Exercicis Java Basics 02"
   ]
  },
  {
   "cell_type": "code",
   "execution_count": null,
   "id": "b4c5ff3c-859d-4c3e-ada1-bab2c2186935",
   "metadata": {},
   "outputs": [],
   "source": [
    "//Ejercicio 1: haced un contador para atrás, de 10 a 1."
   ]
  },
  {
   "cell_type": "code",
   "execution_count": null,
   "id": "53705074-dbf7-4fa1-b5cf-71b901aff277",
   "metadata": {},
   "outputs": [],
   "source": [
    "//Ejercicio 2: crea un bucle que te imprima\n",
    "//por pantalla todos los números pares\n",
    "//entre 1 y 20\n",
    "\n",
    "for(int i = 2; i <= 20; i = i + 2)\n",
    "    println(i);\n",
    "\n",
    "//Plantead una solución alternativa que use el operador módulo"
   ]
  },
  {
   "cell_type": "code",
   "execution_count": null,
   "id": "7db9ad72-6f29-46f7-a30c-ca9005c7f7d4",
   "metadata": {},
   "outputs": [],
   "source": [
    "//Ejercicio 3\n",
    "//Dado un número n\n",
    "//me calculais (e imprimis por pantalla)\n",
    "//la suma total de todos\n",
    "//los números entre 1 y n\n",
    "\n",
    "int n = -10; //obtenemos 1 + 2 + 3 = 6\n",
    "int suma = 0;\n",
    "if(n > 0){\n",
    "    for(int i = 1; i <= n; i++){\n",
    "        suma = suma + i;\n",
    "    }    \n",
    "} \n",
    "else {\n",
    "    for(int i = -1; i >= n; i--){\n",
    "        suma = suma + i;\n",
    "    }\n",
    "}\n",
    "print(\"Suma total = \" + suma);"
   ]
  },
  {
   "cell_type": "code",
   "execution_count": null,
   "id": "d884be40-9c39-4e61-abce-9e51f96e1633",
   "metadata": {},
   "outputs": [],
   "source": [
    "//Ejercicio 4\n",
    "\n",
    "int n = 8;\n",
    "int maxtabla = 10;\n",
    "//Usant un bucle (for), m'imprimeixi per pantalla la \n",
    "//taula de multiplicar de n\n",
    "\n"
   ]
  },
  {
   "cell_type": "code",
   "execution_count": null,
   "id": "9eb45be7-bc80-4030-9b77-85d82cda0c9d",
   "metadata": {},
   "outputs": [],
   "source": [
    "//Ejercicio 5\n",
    "\n",
    "//Dado un número entero positivo n,\n",
    "//y usando bucles,\n",
    "// haced un snippet que nos imprima por pantalla:\n",
    "// true si n es primo\n",
    "// false si n no es primo\n",
    "\n",
    "\n",
    "int n = 36; \n",
    "//TODO\n",
    "\n",
    "\n",
    "//Presupongo que n es primo\n",
    "boolean isPrime = true;\n",
    "for(int i = 2; i <= n/2; i++){\n",
    "    if(n % i == 0) {\n",
    "        isPrime = false;\n",
    "        break;\n",
    "    }\n",
    "}\n",
    "print(isPrime);\n",
    "\n",
    "\n",
    "//Recordatorio:\n",
    "//un número entero es primo\n",
    "//si y solo si es divisible SOLO por sí mismo\n",
    "//y por 1\n",
    "\n",
    "//un numero entero a es divisible por b\n",
    "//si y solo si el resto de la division (el módulo) es 0\n",
    "\n",
    "\n"
   ]
  },
  {
   "cell_type": "code",
   "execution_count": null,
   "id": "4d9c8b08-f1ad-48d2-b700-efe2d4fb3808",
   "metadata": {},
   "outputs": [],
   "source": [
    "//Ejercicio 6:\n",
    "\n",
    "// Dado un entero asignado a una variable a\n",
    "//dado un entero asignado a una variable b\n",
    "//intercanviad los valores de las dos variables\n",
    "\n",
    "int a = 67;\n",
    "int b = -33;\n",
    "\n",
    "println(\"Antes del swap:\");\n",
    "println(a);//6\n",
    "println(b);//-4\n",
    "\n",
    "//TODO\n",
    "a = a - b; //6 - 4 = 2\n",
    "b = b + a; //4 + 2 = 6\n",
    "a = b - a; //6 - 2 = 4\n",
    "\n",
    "println(\"Después del swap:\");\n",
    "println(a);//4\n",
    "println(b);//6"
   ]
  },
  {
   "cell_type": "code",
   "execution_count": null,
   "id": "a450ab72-7e69-431f-9dee-1012001efc7a",
   "metadata": {},
   "outputs": [],
   "source": [
    "//Ejercicio 7:\n",
    "\n",
    "\n",
    "//dado un número N, haced un snippet usando\n",
    "//bucles y condicionales, que me imprima\n",
    "//por pantalla TODOS los números primos\n",
    "//entre 2 y N (incluidos)\n",
    "\n",
    "//Por ejemplo:\n",
    "\n",
    "int N = 200;\n",
    "\n",
    "\n",
    "for(int n = 2; n <= N; n++){\n",
    "    //Presupongo que n es primo\n",
    "    boolean isPrime = true;\n",
    "    for(int i = 2; i <= n/2; i++){\n",
    "        if(n % i == 0) {\n",
    "            isPrime = false;\n",
    "            break;\n",
    "        }\n",
    "    }\n",
    "    if(isPrime) print(n + \" \");\n",
    "}\n",
    "\n",
    "\n",
    "//imprimirá 2, 3, 5, 7, 11, 17"
   ]
  },
  {
   "cell_type": "markdown",
   "id": "dc07369e-7e4b-45c4-b252-b79ba7572a1d",
   "metadata": {},
   "source": [
    "#### Exercici 8:\n",
    "\n",
    "Feu un bucle que imprimeixi un rectangle amb 10 estrelles a cada fila, i de 5 files\n",
    "\n",
    "```\n",
    "**********\n",
    "**********\n",
    "**********\n",
    "**********\n",
    "**********\n",
    "```"
   ]
  },
  {
   "cell_type": "code",
   "execution_count": null,
   "id": "597a74a1-a453-4379-b288-8a68072635fc",
   "metadata": {},
   "outputs": [],
   "source": [
    "int files = 5;\n",
    "int columnes = 10;\n",
    "\n",
    "for(int j = 1; j <= files; j++){\n",
    "    System.out.println(\"\");    \n",
    "    for(int i = 1; i <= columnes; i++){\n",
    "        System.out.print(\"*\");\n",
    "    }    \n",
    "}\n"
   ]
  },
  {
   "cell_type": "code",
   "execution_count": null,
   "id": "7d2d995b-01bf-4ee2-bc26-0f3499333708",
   "metadata": {},
   "outputs": [],
   "source": [
    "//exercici 9\n",
    "// feu un bucle que imprimeixi un triangle amb\n",
    "// 10 estrelles a dalt i 2 estrella a baix\n",
    "\n",
    "//**********\n",
    "// ********\n",
    "//  ******\n",
    "//   ****\n",
    "//    **\n",
    "\n",
    "int files = 5;\n",
    "int columnes = 10;\n",
    "char caracter = '*';\n",
    "char espai = ' ' ;\n",
    "\n",
    "for(int f = 0; f < files; f++){\n",
    "    println(espai);\n",
    "    \n",
    "    for(int e = 0; e < f; e++)\n",
    "        print(espai);\n",
    "    \n",
    "    for(int c = 1 + f; c <= columnes - f; c++){\n",
    "        print(caracter);\n",
    "    }\n",
    "}\n",
    "\n"
   ]
  },
  {
   "cell_type": "code",
   "execution_count": null,
   "id": "fffb2e6a-2807-44f7-9a32-2bf13fee44ad",
   "metadata": {},
   "outputs": [],
   "source": [
    "//    **\n",
    "//   ****\n",
    "//  ******\n",
    "// ********\n",
    "//**********\n",
    "//    **\n",
    "//    **\n",
    "\n",
    "int files = 10;\n",
    "int columnes = 20;\n",
    "char caracter = '*';\n",
    "char espai = ' ' ;\n",
    "\n",
    "//copa \n",
    "for(int f = files - 1; f >= 0; f--){\n",
    "    println(espai);\n",
    "    \n",
    "    for(int e = 0; e < f; e++)\n",
    "        print(espai);\n",
    "    \n",
    "    for(int c = 1 + f; c <= columnes - f; c++){\n",
    "        print(caracter);\n",
    "    }    \n",
    "}\n",
    "\n",
    "//tronco\n",
    "for(int t = 0; t < 2; t++){\n",
    "    System.out.println(espai); \n",
    "    for(int e = 1; e <= columnes / 2 - 1; e++)\n",
    "        print(espai);\n",
    "    for(int i = 1; i <= 2; i++){\n",
    "        System.out.print(\"*\");\n",
    "    }    \n",
    "}"
   ]
  },
  {
   "cell_type": "code",
   "execution_count": null,
   "id": "0f3477ef-c321-4581-a830-4fb0c7737969",
   "metadata": {},
   "outputs": [],
   "source": [
    "//Carlos\n",
    "\n",
    "// Follaje\n",
    "int files = 10;\n",
    "int columnas = 10;\n",
    "String espacio = \" \";\n",
    "String asterisco = \"*\";\n",
    "\n",
    "for(int j = 1; j <= files; j++){\n",
    "    System.out.print(\"\\n\");       \n",
    "    \n",
    "// intento de centrar arbol\n",
    "    for(int k = 1 + j; k <= columnas - j; k++){\n",
    "        //System.out.print(asterisco);\n",
    "    }\n",
    "\n",
    "    \n",
    "    for(int i = 1; i <= columnas; i++){\n",
    "        System.out.print(asterisco);        \n",
    "    }\n",
    "    columnas = columnas + 2;\n",
    "\n",
    "}\n",
    "\n",
    "//tronco\n",
    "for(int j = 1; j <= 5; j++){\n",
    "    System.out.print(\"\\n\");    \n",
    " \n",
    "    for(int i = 1; i <= 6; i++){\n",
    "        System.out.print(\"|\");\n",
    "    }\n",
    "}\n",
    "System.out.print(\"________________________________________\");\n"
   ]
  },
  {
   "cell_type": "markdown",
   "id": "c99e9994-369c-4b89-88c7-171f4eca4f93",
   "metadata": {},
   "source": [
    "### Exercicis Funcions"
   ]
  },
  {
   "cell_type": "code",
   "execution_count": null,
   "id": "3acbc858-e538-44b5-b8c4-e06c2d5739da",
   "metadata": {},
   "outputs": [],
   "source": [
    "//Ejercicio: hacer funcion Nota Mínima de un array de integers\n",
    "\n",
    "double[] notas1 = {7.6, 5.5, 9.7, 4.1, 6.6, 5.1, 3.8, 8.6, 9.9, 5.0};//Aula 1\n",
    "\n",
    "double[] notas2 = {5.0, 4.5, 6.2, 4.9, 7.2, 8.4, 6.5, 3.2, 9.1, 5.7};//Aula 2\n",
    "\n",
    "double[] notas3 = {4.5, 6.8, 6.3, 7.9, 7.1, 3.7, 6.0, 9.0, 8.9, 7.3};//Aula 3\n",
    "\n",
    "\n",
    "void notaMinima(){\n",
    "//TODO\n",
    "}\n",
    "\n",
    "notaMinima(notas1);\n",
    "notaMinima(notas2);\n",
    "notaMinima(notas3);"
   ]
  },
  {
   "cell_type": "code",
   "execution_count": 26,
   "id": "e147b7e7-94b5-40bf-89fc-adba83210fb3",
   "metadata": {},
   "outputs": [],
   "source": [
    "//Ejercicio tabla de multiplicar\n",
    "\n",
    "//una funcion que imprima por pantalla\n",
    "//la tabla de multiplicar de un número dado n entre 1 y 10\n",
    "\n",
    "void tablaMultiplicar(int n){\n",
    "    //TODO\n",
    "}\n",
    "\n",
    "tablaMultiplicar(8);\n",
    "tablaMultiplicar(5);"
   ]
  },
  {
   "cell_type": "code",
   "execution_count": 7,
   "id": "1f1297ba-b4fa-4fb4-ba98-6222b0e21562",
   "metadata": {},
   "outputs": [
    {
     "name": "stdout",
     "output_type": "stream",
     "text": [
      "false\n",
      "true\n"
     ]
    }
   ],
   "source": [
    "//Presupongo que n es primo\n",
    "void isPrime(int n){\n",
    "    boolean isPrime = true;\n",
    "    for(int i = 2; i <= n/2; i++){\n",
    "        if(n % i == 0) {\n",
    "            isPrime = false;\n",
    "            break;\n",
    "        }\n",
    "    }\n",
    "    println(isPrime);\n",
    "}\n",
    "\n",
    "isPrime(87);\n",
    "isPrime(17);"
   ]
  },
  {
   "cell_type": "code",
   "execution_count": 16,
   "id": "f4b7acd2-c35f-4124-be56-5f737b2bd795",
   "metadata": {},
   "outputs": [
    {
     "name": "stdout",
     "output_type": "stream",
     "text": [
      "17\n"
     ]
    }
   ],
   "source": [
    "//Presupongo que n es primo\n",
    "int isPrime3(int n){\n",
    "    boolean isPrime = true;\n",
    "    for(int i = 2; i <= n/2; i++){\n",
    "        if(n % i == 0) {\n",
    "            isPrime = false;\n",
    "            break;\n",
    "        }\n",
    "    }\n",
    "    if(isPrime)\n",
    "        return n;\n",
    "    else\n",
    "        return -1;\n",
    "}\n",
    "\n",
    "int res1 = isPrime3(87);\n",
    "int res2 = isPrime3(17);\n",
    "if(res1 != -1)\n",
    "    println(res1);\n",
    "if(res2 != -1)\n",
    "    println(res2);"
   ]
  },
  {
   "cell_type": "code",
   "execution_count": 8,
   "id": "a20f23d0-c5d0-4fa4-af14-e899bd509a7d",
   "metadata": {},
   "outputs": [
    {
     "name": "stdout",
     "output_type": "stream",
     "text": [
      "2 3 5 7 11 13 17 19 23 29 31 37 41 43 47 53 59 61 67 71 73 \n",
      "2 3 5 7 11 13 17 19 23 "
     ]
    }
   ],
   "source": [
    "//Ejercicio Numeros Primos desde 2 a N\n",
    "\n",
    "//dado un número N, haced una FUNCION usando\n",
    "//bucles y condicionales, que me imprima\n",
    "//por pantalla TODOS los números primos\n",
    "//entre 2 y N (incluidos)\n",
    "\n",
    "//Presupongo que n es primo\n",
    "void isPrime2(int n){\n",
    "    boolean isPrime = true;\n",
    "    for(int i = 2; i <= n/2; i++){\n",
    "        if(n % i == 0) {\n",
    "            isPrime = false;\n",
    "            break;\n",
    "        }\n",
    "    }\n",
    "    if(isPrime)\n",
    "        print(n + \" \");\n",
    "}\n",
    "\n",
    "void printAllPrimes(int N){\n",
    "    for(int n = 2; n <= N; n++){\n",
    "        isPrime2(n);\n",
    "    }\n",
    "}\n",
    "\n",
    "printAllPrimes(78); //imprime TODOS los números primos\n",
    "                    //entre 2 y 78\n",
    "\n",
    "println(\"\");\n",
    "\n",
    "printAllPrimes(27);"
   ]
  },
  {
   "cell_type": "markdown",
   "id": "0e9e33da-8a10-4fba-b5ce-224cb44dfc28",
   "metadata": {},
   "source": [
    "#### Exercici arrays i funcions\n",
    "\n",
    "Crea una o varias funciones para conseguir el siguiente resultado:\n",
    "\n",
    "Donat un array, busca el seu màxim, el seu mínim, i intercanvia'ls de lloc.\n",
    "\n",
    "Per exemple:\n",
    "\n",
    "```java\n",
    "//abans\n",
    "int[] array = {4,2,7,9,1,2,6,-1,8};\n",
    "println(Arrays.toString(array)); //imprimirà [4, 2, 7, 9, 1, 2, 6, -1, 8]\n",
    "\n",
    "//després\n",
    "println(Arrays.toString(array)); //imprimirà [4, 2, 7, -1, 1, 2, 6, 9, 8]\n",
    "```"
   ]
  },
  {
   "cell_type": "code",
   "execution_count": 28,
   "id": "a8d8f49f-acbe-4562-8db0-9f6633d750ac",
   "metadata": {},
   "outputs": [
    {
     "name": "stdout",
     "output_type": "stream",
     "text": [
      "[4, 2, -7, 9, 1, 12, 6, -1, 8]\n",
      "[4, 2, 12, 9, 1, -7, 6, -1, 8]\n"
     ]
    }
   ],
   "source": [
    "//TODO\n",
    "\n",
    "int[] array = {4,2,-7,9,1,12,6,-1,8};\n",
    "\n",
    "println(Arrays.toString(array));\n",
    "\n",
    "int getMax(int[] miArray){\n",
    "    int max = miArray[0];\n",
    "    for(int i = 0; i < miArray.length; i++){\n",
    "        if(miArray[i] > max){\n",
    "            max = miArray[i];\n",
    "        }\n",
    "    }\n",
    "    return max;\n",
    "}\n",
    "\n",
    "int getMin(int[] miArray){\n",
    "    int min = miArray[0];\n",
    "    for(int n : miArray){\n",
    "        if(n < min){\n",
    "            min = n;\n",
    "        }\n",
    "    }\n",
    "    return min;\n",
    "}\n",
    "\n",
    "int getIndexOfMax(int[] miArray){\n",
    "    int maxIndex = -1; //Por convenio\n",
    "    int max = getMax(miArray); //\n",
    "    for(int index = 0; index < miArray.length; index++){\n",
    "        if(miArray[index] == max){\n",
    "            maxIndex = index;\n",
    "        }\n",
    "    }\n",
    "    return maxIndex;\n",
    "}\n",
    "\n",
    "int getIndexOfMin(int[] miArray){\n",
    "    int minIndex = -1; //Por convenio\n",
    "    int min = getMin(miArray); //\n",
    "    for(int index = 0; index < miArray.length; index++){\n",
    "        if(miArray[index] == min){\n",
    "            minIndex = index;\n",
    "        }\n",
    "    }\n",
    "    return minIndex;\n",
    "}\n",
    "\n",
    "int[] swapMaxMin(int[] miArray, int max, int min, int maxIndex, int minIndex){ \n",
    "    \n",
    "    //swap\n",
    "    miArray[minIndex] = max;\n",
    "    miArray[maxIndex] = min;\n",
    "    \n",
    "    return miArray;\n",
    "}\n",
    "\n",
    "int[] maxMinSwappedArray = swapMaxMin(array, getMax(array), getMin(array), getIndexOfMax(array), getIndexOfMin(array));\n",
    "\n",
    "println(Arrays.toString(maxMinSwappedArray));\n"
   ]
  },
  {
   "cell_type": "code",
   "execution_count": null,
   "id": "f14f561f-3db5-40d9-a6bb-a045e3871f88",
   "metadata": {},
   "outputs": [],
   "source": [
    "//En base al ejercio anterior, cread una funcion que,\n",
    "//dado un array, y dados dos numero enteros (qualiequiera)\n",
    "//los busque por el array (a ver si estan) y si los dos estan\n",
    "//me los canvie de ubicación (me haga el swap).\n",
    "\n",
    "//Es más GENERICO que el anterior\n",
    "\n"
   ]
  },
  {
   "cell_type": "markdown",
   "id": "7bfe6103-32fe-44d2-b5a1-f784755f9234",
   "metadata": {},
   "source": [
    "#### Exercici\n",
    "\n",
    "Fes una funció que cerqui el màxim d'un array i l'intercanvïi amb l'últim element de l'array\n"
   ]
  },
  {
   "cell_type": "code",
   "execution_count": 28,
   "id": "97314522-d23d-43b4-ab19-d17499ccf530",
   "metadata": {},
   "outputs": [],
   "source": [
    "//TODO"
   ]
  },
  {
   "cell_type": "markdown",
   "id": "5dae62a5-6194-4b34-898f-141072951ba8",
   "metadata": {},
   "source": [
    "#### Exercici\n",
    "\n",
    "Fes una funció que, a partir de l'exercici anterior, ordeni un array en ordre ascendent, de menor a major."
   ]
  },
  {
   "cell_type": "code",
   "execution_count": 29,
   "id": "bd35c10e-6b69-489e-9733-6df4083f8515",
   "metadata": {},
   "outputs": [],
   "source": [
    "//TODO"
   ]
  },
  {
   "cell_type": "code",
   "execution_count": null,
   "id": "240ad994-aa46-4a0a-bc58-324d1655d88e",
   "metadata": {},
   "outputs": [],
   "source": []
  }
 ],
 "metadata": {
  "kernelspec": {
   "display_name": "Java",
   "language": "java",
   "name": "java"
  },
  "language_info": {
   "codemirror_mode": "java",
   "file_extension": ".jshell",
   "mimetype": "text/x-java-source",
   "name": "Java",
   "pygments_lexer": "java",
   "version": "11.0.17+8-LTS"
  }
 },
 "nbformat": 4,
 "nbformat_minor": 5
}
