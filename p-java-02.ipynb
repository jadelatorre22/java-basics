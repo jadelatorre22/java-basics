{
 "cells": [
  {
   "cell_type": "markdown",
   "id": "4ffb314f-d23f-4a53-8992-eccdb0618526",
   "metadata": {},
   "source": [
    "# Exercicis Java Basics 02"
   ]
  },
  {
   "cell_type": "code",
   "execution_count": 5,
   "id": "b4c5ff3c-859d-4c3e-ada1-bab2c2186935",
   "metadata": {},
   "outputs": [],
   "source": [
    "//Ejercicio 1: haced un contador para atrás, de 10 a 1."
   ]
  },
  {
   "cell_type": "code",
   "execution_count": 1,
   "id": "53705074-dbf7-4fa1-b5cf-71b901aff277",
   "metadata": {},
   "outputs": [
    {
     "name": "stdout",
     "output_type": "stream",
     "text": [
      "2\n",
      "4\n",
      "6\n",
      "8\n",
      "10\n",
      "12\n",
      "14\n",
      "16\n",
      "18\n",
      "20\n"
     ]
    }
   ],
   "source": [
    "//Ejercicio 2: crea un bucle que te imprima\n",
    "//por pantalla todos los números pares\n",
    "//entre 1 y 20\n",
    "\n",
    "for(int i = 2; i <= 20; i = i + 2)\n",
    "    println(i);\n",
    "\n",
    "//Plantead una solución alternativa que use el operador módulo"
   ]
  },
  {
   "cell_type": "code",
   "execution_count": 2,
   "id": "7db9ad72-6f29-46f7-a30c-ca9005c7f7d4",
   "metadata": {},
   "outputs": [
    {
     "name": "stdout",
     "output_type": "stream",
     "text": [
      "Suma total = -55"
     ]
    }
   ],
   "source": [
    "//Ejercicio 3\n",
    "//Dado un número n\n",
    "//me calculais (e imprimis por pantalla)\n",
    "//la suma total de todos\n",
    "//los números entre 1 y n\n",
    "\n",
    "int n = -10; //obtenemos 1 + 2 + 3 = 6\n",
    "int suma = 0;\n",
    "if(n > 0){\n",
    "    for(int i = 1; i <= n; i++){\n",
    "        suma = suma + i;\n",
    "    }    \n",
    "} \n",
    "else {\n",
    "    for(int i = -1; i >= n; i--){\n",
    "        suma = suma + i;\n",
    "    }\n",
    "}\n",
    "print(\"Suma total = \" + suma);"
   ]
  },
  {
   "cell_type": "code",
   "execution_count": 3,
   "id": "d884be40-9c39-4e61-abce-9e51f96e1633",
   "metadata": {},
   "outputs": [],
   "source": [
    "//Ejercicio 4\n",
    "\n",
    "int n = 8;\n",
    "int maxtabla = 10;\n",
    "//Usant un bucle (for), m'imprimeixi per pantalla la \n",
    "//taula de multiplicar de n\n",
    "\n"
   ]
  },
  {
   "cell_type": "code",
   "execution_count": 4,
   "id": "9eb45be7-bc80-4030-9b77-85d82cda0c9d",
   "metadata": {},
   "outputs": [],
   "source": [
    "//Ejercicio 5\n",
    "\n",
    "//Dado un número entero positivo n,\n",
    "//y usando bucles,\n",
    "// haced un snippet que nos imprima por pantalla:\n",
    "// true si n es primo\n",
    "// false si n no es primo\n",
    "\n",
    "\n",
    "int n = 37; \n",
    "//TODO\n",
    "\n",
    "\n",
    "\n",
    "//Recordatorio:\n",
    "//un número entero es primo\n",
    "//si y solo si es divisible SOLO por sí mismo\n",
    "//y por 1\n",
    "\n",
    "//un numero entero a es divisible por b\n",
    "//si y solo si el resto de la division (el módulo) es 0\n",
    "\n",
    "\n"
   ]
  }
 ],
 "metadata": {
  "kernelspec": {
   "display_name": "Java",
   "language": "java",
   "name": "java"
  },
  "language_info": {
   "codemirror_mode": "java",
   "file_extension": ".jshell",
   "mimetype": "text/x-java-source",
   "name": "Java",
   "pygments_lexer": "java",
   "version": "11.0.17+8-LTS"
  }
 },
 "nbformat": 4,
 "nbformat_minor": 5
}
