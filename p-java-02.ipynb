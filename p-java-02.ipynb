{
 "cells": [
  {
   "cell_type": "raw",
   "id": "7ba4b2a1-e0eb-404c-a4ad-a426cb549e31",
   "metadata": {},
   "source": [
    "# Exercicis Java Basics 02"
   ]
  },
  {
   "cell_type": "code",
   "execution_count": 5,
   "id": "b4c5ff3c-859d-4c3e-ada1-bab2c2186935",
   "metadata": {},
   "outputs": [],
   "source": [
    "//Ejercicio 1: haced un contador para atrás, de 10 a 1."
   ]
  },
  {
   "cell_type": "code",
   "execution_count": 1,
   "id": "53705074-dbf7-4fa1-b5cf-71b901aff277",
   "metadata": {},
   "outputs": [
    {
     "name": "stdout",
     "output_type": "stream",
     "text": [
      "2\n",
      "4\n",
      "6\n",
      "8\n",
      "10\n",
      "12\n",
      "14\n",
      "16\n",
      "18\n",
      "20\n"
     ]
    }
   ],
   "source": [
    "//Ejercicio 2: crea un bucle que te imprima\n",
    "//por pantalla todos los números pares\n",
    "//entre 1 y 20\n",
    "\n",
    "for(int i = 2; i <= 20; i = i + 2)\n",
    "    println(i);\n",
    "\n",
    "//Plantead una solución alternativa que use el operador módulo"
   ]
  },
  {
   "cell_type": "code",
   "execution_count": 2,
   "id": "7db9ad72-6f29-46f7-a30c-ca9005c7f7d4",
   "metadata": {},
   "outputs": [
    {
     "name": "stdout",
     "output_type": "stream",
     "text": [
      "Suma total = -55"
     ]
    }
   ],
   "source": [
    "//Ejercicio 3\n",
    "//Dado un número n\n",
    "//me calculais (e imprimis por pantalla)\n",
    "//la suma total de todos\n",
    "//los números entre 1 y n\n",
    "\n",
    "int n = -10; //obtenemos 1 + 2 + 3 = 6\n",
    "int suma = 0;\n",
    "if(n > 0){\n",
    "    for(int i = 1; i <= n; i++){\n",
    "        suma = suma + i;\n",
    "    }    \n",
    "} \n",
    "else {\n",
    "    for(int i = -1; i >= n; i--){\n",
    "        suma = suma + i;\n",
    "    }\n",
    "}\n",
    "print(\"Suma total = \" + suma);"
   ]
  },
  {
   "cell_type": "code",
   "execution_count": 3,
   "id": "d884be40-9c39-4e61-abce-9e51f96e1633",
   "metadata": {},
   "outputs": [],
   "source": [
    "//Ejercicio 4\n",
    "\n",
    "int n = 8;\n",
    "int maxtabla = 10;\n",
    "//Usant un bucle (for), m'imprimeixi per pantalla la \n",
    "//taula de multiplicar de n\n",
    "\n"
   ]
  },
  {
   "cell_type": "code",
   "execution_count": 2,
   "id": "9eb45be7-bc80-4030-9b77-85d82cda0c9d",
   "metadata": {},
   "outputs": [
    {
     "name": "stdout",
     "output_type": "stream",
     "text": [
      "false"
     ]
    }
   ],
   "source": [
    "//Ejercicio 5\n",
    "\n",
    "//Dado un número entero positivo n,\n",
    "//y usando bucles,\n",
    "// haced un snippet que nos imprima por pantalla:\n",
    "// true si n es primo\n",
    "// false si n no es primo\n",
    "\n",
    "\n",
    "int n = 36; \n",
    "//TODO\n",
    "\n",
    "\n",
    "//Presupongo que n es primo\n",
    "boolean isPrime = true;\n",
    "for(int i = 2; i <= n/2; i++){\n",
    "    if(n % i == 0) {\n",
    "        isPrime = false;\n",
    "        break;\n",
    "    }\n",
    "}\n",
    "print(isPrime);\n",
    "\n",
    "\n",
    "//Recordatorio:\n",
    "//un número entero es primo\n",
    "//si y solo si es divisible SOLO por sí mismo\n",
    "//y por 1\n",
    "\n",
    "//un numero entero a es divisible por b\n",
    "//si y solo si el resto de la division (el módulo) es 0\n",
    "\n",
    "\n"
   ]
  },
  {
   "cell_type": "code",
   "execution_count": 4,
   "id": "4d9c8b08-f1ad-48d2-b700-efe2d4fb3808",
   "metadata": {},
   "outputs": [
    {
     "name": "stdout",
     "output_type": "stream",
     "text": [
      "Antes del swap:\n",
      "67\n",
      "-33\n",
      "Después del swap:\n",
      "-33\n",
      "67\n"
     ]
    }
   ],
   "source": [
    "//Ejercicio 6:\n",
    "\n",
    "// Dado un entero asignado a una variable a\n",
    "//dado un entero asignado a una variable b\n",
    "//intercanviad los valores de las dos variables\n",
    "\n",
    "int a = 67;\n",
    "int b = -33;\n",
    "\n",
    "println(\"Antes del swap:\");\n",
    "println(a);//6\n",
    "println(b);//-4\n",
    "\n",
    "//TODO\n",
    "a = a - b; //6 - 4 = 2\n",
    "b = b + a; //4 + 2 = 6\n",
    "a = b - a; //6 - 2 = 4\n",
    "\n",
    "println(\"Después del swap:\");\n",
    "println(a);//4\n",
    "println(b);//6"
   ]
  },
  {
   "cell_type": "code",
   "execution_count": 12,
   "id": "a450ab72-7e69-431f-9dee-1012001efc7a",
   "metadata": {},
   "outputs": [
    {
     "name": "stdout",
     "output_type": "stream",
     "text": [
      "2 3 5 7 11 13 17 19 23 29 31 37 41 43 47 53 59 61 67 71 73 79 83 89 97 101 103 107 109 113 127 131 137 139 149 151 157 163 167 173 179 181 191 193 197 199 "
     ]
    }
   ],
   "source": [
    "//Ejercicio 7:\n",
    "\n",
    "\n",
    "//dado un número N, haced un snippet usando\n",
    "//bucles y condicionales, que me imprima\n",
    "//por pantalla TODOS los números primos\n",
    "//entre 2 y N (incluidos)\n",
    "\n",
    "//Por ejemplo:\n",
    "\n",
    "int N = 200;\n",
    "\n",
    "\n",
    "for(int n = 2; n <= N; n++){\n",
    "    //Presupongo que n es primo\n",
    "    boolean isPrime = true;\n",
    "    for(int i = 2; i <= n/2; i++){\n",
    "        if(n % i == 0) {\n",
    "            isPrime = false;\n",
    "            break;\n",
    "        }\n",
    "    }\n",
    "    if(isPrime) print(n + \" \");\n",
    "}\n",
    "\n",
    "\n",
    "//imprimirá 2, 3, 5, 7, 11, 17"
   ]
  },
  {
   "cell_type": "markdown",
   "id": "dc07369e-7e4b-45c4-b252-b79ba7572a1d",
   "metadata": {},
   "source": [
    "#### Exercici 8:\n",
    "\n",
    "Feu un bucle que imprimeixi un rectangle amb 10 estrelles a cada fila, i de 5 files\n",
    "\n",
    "```\n",
    "**********\n",
    "**********\n",
    "**********\n",
    "**********\n",
    "**********\n",
    "```"
   ]
  },
  {
   "cell_type": "code",
   "execution_count": 14,
   "id": "597a74a1-a453-4379-b288-8a68072635fc",
   "metadata": {},
   "outputs": [
    {
     "name": "stdout",
     "output_type": "stream",
     "text": [
      "\n",
      "**********\n",
      "**********\n",
      "**********\n",
      "**********\n",
      "**********"
     ]
    }
   ],
   "source": [
    "int files = 5;\n",
    "int columnes = 10;\n",
    "\n",
    "for(int j = 1; j <= files; j++){\n",
    "    System.out.println(\"\");    \n",
    "    for(int i = 1; i <= columnes; i++){\n",
    "        System.out.print(\"*\");\n",
    "    }    \n",
    "}\n"
   ]
  },
  {
   "cell_type": "code",
   "execution_count": null,
   "id": "7d2d995b-01bf-4ee2-bc26-0f3499333708",
   "metadata": {},
   "outputs": [],
   "source": [
    "//exercici 9\n",
    "// feu un bucle que imprimeixi un triangle amb\n",
    "// 10 estrelles a dalt i 2 estrella a baix\n",
    "\n",
    "//**********\n",
    "// ********\n",
    "//  ******\n",
    "//   ****\n",
    "//    **\n",
    "\n",
    "int files = 5;\n",
    "int columnes = 10;\n",
    "char caracter = '*';\n",
    "char espai = ' ';\n",
    "\n"
   ]
  },
  {
   "cell_type": "code",
   "execution_count": null,
   "id": "fffb2e6a-2807-44f7-9a32-2bf13fee44ad",
   "metadata": {},
   "outputs": [],
   "source": [
    "//    **\n",
    "//   ****\n",
    "//  ******\n",
    "// ********\n",
    "//**********\n",
    "//    **\n",
    "//    **\n",
    "\n"
   ]
  }
 ],
 "metadata": {
  "kernelspec": {
   "display_name": "Java",
   "language": "java",
   "name": "java"
  },
  "language_info": {
   "codemirror_mode": "java",
   "file_extension": ".jshell",
   "mimetype": "text/x-java-source",
   "name": "Java",
   "pygments_lexer": "java",
   "version": "11.0.17+8-LTS"
  }
 },
 "nbformat": 4,
 "nbformat_minor": 5
}
