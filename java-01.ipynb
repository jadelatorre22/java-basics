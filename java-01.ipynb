{
 "cells": [
  {
   "cell_type": "markdown",
   "id": "3f140903-ff17-4617-8973-a99b823e8bc8",
   "metadata": {},
   "source": [
    "# Java 01\n",
    "\n",
    "## Variables y tipos de datos"
   ]
  },
  {
   "cell_type": "code",
   "execution_count": null,
   "id": "e6354c03-28bc-45f3-8216-8c66d1ca4bb7",
   "metadata": {},
   "outputs": [],
   "source": [
    "//Los comentarios en Java hay de 3 tipos:\n",
    "\n",
    "//este el comentario de single line (única línea)"
   ]
  },
  {
   "cell_type": "code",
   "execution_count": 28,
   "id": "482cfcf1-2c78-43f8-aeaa-49b7c865c370",
   "metadata": {},
   "outputs": [
    {
     "name": "stdout",
     "output_type": "stream",
     "text": [
      "Hola\n",
      "10\n",
      "9.9\n",
      "A\n"
     ]
    }
   ],
   "source": [
    "println(\"Hola Bon dia\");  //Cadena de texto o String. \" ... \" \"t\"\n",
    "println(10);  //Número entero. Integer.   int      4   7   88  -32\n",
    "println(9.9); //Número decimal de precisión doble   double \n",
    "println(9.5f); //Numero decimal de precision simple   float\n",
    "println('A'); //Un único caracter.   char    ' '  \n",
    "              // 'tu' esto da error -> hay que meterlo como \"tu\"\n",
    "println(true); // boolean   que solo tiene 2 literales: true o false\n",
    "println(false);\n",
    "\n",
    "//Tipos de datos en Java hay de 2 tipos:\n",
    "\n",
    "// Los tipos de datos PRIMITIVOS (hay 8): (no son objetos)\n",
    "    //- numericos enteros: \n",
    "        //byte\n",
    "        //short\n",
    "        //int\n",
    "        //long\n",
    "    //- numericos decimales:  float, double\n",
    "    //- caracteres: char\n",
    "    //- boolean (true o false)\n",
    "     \n",
    "// el resto de tipos de datos (los NO primitivos): Son Objetos\n",
    "// Hay tantos como you quiera:\n",
    "//- String"
   ]
  },
  {
   "cell_type": "markdown",
   "id": "0e2eefa8-1f4e-4616-9196-0affb9e4629d",
   "metadata": {},
   "source": [
    "### Como declaramos una variable?"
   ]
  },
  {
   "cell_type": "code",
   "execution_count": 5,
   "id": "3aec511f-6b48-46d3-8410-35821f4028e9",
   "metadata": {},
   "outputs": [
    {
     "name": "stdout",
     "output_type": "stream",
     "text": [
      "8\n",
      "Hola muy buenas\n",
      "Bona nit, que tinguis bon descans\n"
     ]
    }
   ],
   "source": [
    "//ANTES DE USAR UNA VARIABLE, ES OBLIGATORIO DECLARARLA (DEFINIRLA).\n",
    "//1 - HAY que especificar el tipo de dato !!! (int, boolean, String...)\n",
    "//2 - Hay que darle un NOMBRE VÁLIDO a la variable (lo elije el programador).\n",
    "//3 - OPCIONALMENTE le podemos asignar un literal (valor).\n",
    "//(y sino, le asignaremos un literal más adelante).\n",
    "// finalizamos con ;\n",
    "\n",
    "//Ejemplos:\n",
    "\n",
    "int numero; //declaro la variable\n",
    "\n",
    "numero = 8; //asignacion de valor\n",
    "\n",
    "println(numero);\n",
    "\n",
    "String saludo = \"Hola muy buenas\"; //declaracion y asignacion\n",
    "\n",
    "println(saludo);\n",
    "\n",
    "saludo = \"Bona nit, que tinguis bon descans\";\n",
    "\n",
    "println(saludo);"
   ]
  },
  {
   "cell_type": "code",
   "execution_count": 9,
   "id": "ed90e040-65a0-4dfb-b312-6335b70e227b",
   "metadata": {},
   "outputs": [
    {
     "name": "stdout",
     "output_type": "stream",
     "text": [
      "9\n",
      "18\n",
      "27\n",
      "36\n",
      "45\n",
      "54\n",
      "63\n",
      "72\n",
      "81\n",
      "90\n"
     ]
    }
   ],
   "source": [
    "var n = 9;//como voy a saber el tipo de dato?\n",
    "\n",
    "//n = 3.4; //double\n",
    "\n",
    "println(n * 1);\n",
    "println(n * 2);\n",
    "println(n * 3);\n",
    "println(n * 4);\n",
    "println(n * 5);\n",
    "println(n * 6);\n",
    "println(n * 7);\n",
    "println(n * 8);\n",
    "println(n * 9);\n",
    "println(n * 10);"
   ]
  },
  {
   "cell_type": "code",
   "execution_count": 8,
   "id": "89bdb03a-4e2a-4f04-833c-cd4ecb25210e",
   "metadata": {},
   "outputs": [
    {
     "name": "stdout",
     "output_type": "stream",
     "text": [
      "54\n",
      "33\n",
      "java\n"
     ]
    }
   ],
   "source": [
    "int num = 54;\n",
    "println(num);\n",
    "\n",
    "num = 33;\n",
    "\n",
    "println(num);\n",
    "\n",
    "num = \"java\"; \n",
    "\n",
    "println(num);"
   ]
  },
  {
   "cell_type": "markdown",
   "id": "e795ef21-ad6f-4819-a676-34e9e3552460",
   "metadata": {},
   "source": [
    "## Operadores (artimeticos, concatencion)"
   ]
  },
  {
   "cell_type": "code",
   "execution_count": 14,
   "id": "dc7956da-93f8-483b-a856-f96981037e5f",
   "metadata": {},
   "outputs": [
    {
     "name": "stdout",
     "output_type": "stream",
     "text": [
      "15\n",
      "Laura Cases\n"
     ]
    }
   ],
   "source": [
    "//+, -, *, /, %\n",
    "\n",
    "int a, b;\n",
    "\n",
    "a = 7;\n",
    "b = 8;\n",
    "\n",
    "println(a + b);\n",
    "\n",
    "//Strings: solo el + (concatenación)\n",
    "\n",
    "String name, surname;\n",
    "\n",
    "name = \"Laura\";\n",
    "surname = \"Cases\";\n",
    "\n",
    "println(name + \" \" + surname);\n",
    "    "
   ]
  },
  {
   "cell_type": "code",
   "execution_count": 19,
   "id": "7ddf2ee2-1f18-40bc-bea6-73eca363721d",
   "metadata": {},
   "outputs": [
    {
     "name": "stdout",
     "output_type": "stream",
     "text": [
      "Division entera: 4\n",
      "Modulo: 2\n",
      "Division decimal: 4.4\n"
     ]
    }
   ],
   "source": [
    "//Divison y módulo\n",
    "\n",
    "int n = 22, m = 5;\n",
    "\n",
    "println(\"Division entera: \" + n / m); //división\n",
    "\n",
    "println(\"Modulo: \" + n % m);\n",
    "\n",
    "double x = 22.0, y = 5.0;\n",
    "\n",
    "println(\"Division decimal: \" + x / y);"
   ]
  },
  {
   "cell_type": "code",
   "execution_count": null,
   "id": "5eee19b5-c697-4ba0-a6ed-68ddc3500f45",
   "metadata": {},
   "outputs": [],
   "source": [
    "int n = 4;\n",
    "int m = 2;\n",
    "int r = 2*(n / m) + n * m; //r de resultado\n",
    "System.out.println(r);\n",
    "System.out.println(r2);"
   ]
  },
  {
   "cell_type": "markdown",
   "id": "82eab2e2-5b62-4c75-8e36-32e591d687d4",
   "metadata": {},
   "source": [
    "## Operadores lógicos (booleanos)"
   ]
  },
  {
   "cell_type": "code",
   "execution_count": 30,
   "id": "50abe52f-4259-4ea7-8da6-bf177a467775",
   "metadata": {},
   "outputs": [
    {
     "name": "stdout",
     "output_type": "stream",
     "text": [
      "true\n",
      "false\n",
      "false\n",
      "false\n",
      "true\n",
      "true\n"
     ]
    }
   ],
   "source": [
    "int a, b;\n",
    "\n",
    "a = 7;\n",
    "b= 7;\n",
    "\n",
    "//Comparar igualdad ==\n",
    "\n",
    "println(a == b);\n",
    "\n",
    "//Comparar desigualdad\n",
    "\n",
    "println(a != b);\n",
    "\n",
    "//Comparar mayor que\n",
    "\n",
    "println(a > b);\n",
    "\n",
    "//Comparar menor que\n",
    "\n",
    "println(a < b);\n",
    "\n",
    "//Comparar mayor o igual que\n",
    "\n",
    "println(a >= b);\n",
    "\n",
    "//Comparar menor o igual que\n",
    "\n",
    "println(a <= b);"
   ]
  },
  {
   "cell_type": "code",
   "execution_count": 36,
   "id": "7d8ce557-1dd0-4e1d-a146-6f8495baacb3",
   "metadata": {},
   "outputs": [
    {
     "ename": "CompilationException",
     "evalue": "",
     "output_type": "error",
     "traceback": [
      "\u001b[1m\u001b[30m|   \u001b[1m\u001b[30mboolean result\u001b[0m\u001b[1m\u001b[30m\u001b[41m\u001b[0m\u001b[1m\u001b[30m == r = n * 3;\u001b[0m",
      "\u001b[1m\u001b[31m';' expected\u001b[0m",
      ""
     ]
    }
   ],
   "source": [
    "int n = 4;\n",
    "int m = 2;\n",
    "int r = 2*(n / m) + n * m;\n",
    "\n",
    "boolean result = (r == n * 3);\n",
    "\n",
    "println(result);"
   ]
  },
  {
   "cell_type": "markdown",
   "id": "cb9e71c5-fcf0-4662-9fa3-8b2c261e30d7",
   "metadata": {},
   "source": [
    "## Estructuras Condicionales"
   ]
  },
  {
   "cell_type": "code",
   "execution_count": 51,
   "id": "ef8d95ee-ae90-4b6f-92f2-c552a6ddbaa0",
   "metadata": {},
   "outputs": [
    {
     "name": "stdout",
     "output_type": "stream",
     "text": [
      "Soy un niño\n"
     ]
    }
   ],
   "source": [
    "//LOS CONDICIONALES NECESITAN OBLIGATORIAMENTE \n",
    "//RESULTADOS BOOLEANOS\n",
    "\n",
    "//RESULTADOS BOOLEANOS? A PARTIR DE COMPARACIONES\n",
    "\n",
    "int miEdad = 11;\n",
    "int mayoriaDeEdad = 18;\n",
    "\n",
    "if(miEdad >= mayoriaDeEdad)\n",
    "    println(\"Soy mayor de edad\");\n",
    "else if(miEdad < 12)\n",
    "    println(\"Soy un niño\");\n",
    "else \n",
    "    println(\"Soy menor adolescente\");"
   ]
  },
  {
   "cell_type": "code",
   "execution_count": 57,
   "id": "41240829-5da1-463c-a5b5-3987259cc7d8",
   "metadata": {},
   "outputs": [
    {
     "name": "stdout",
     "output_type": "stream",
     "text": [
      "Estamos en otoño"
     ]
    }
   ],
   "source": [
    "int enero, abril, julio, octubre;\n",
    "\n",
    "enero = 1;\n",
    "abril = 4; \n",
    "julio = 7;\n",
    "octubre = 10;\n",
    "\n",
    "int mesActual = 11; //valores del 1 al 12\n",
    "\n",
    "if(mesActual < 4)\n",
    "    print(\"Estamos en invierno\");\n",
    "else if(mesActual < 7)\n",
    "    print(\"Estamos en primavera\");\n",
    "else if(mesActual < 10)\n",
    "    print(\"Estamos en verano\");\n",
    "else\n",
    "    print(\"Estamos en otoño\");\n",
    "\n",
    "\n",
    "//Me teneis que construir una estructura condicional que\n",
    "//dado el mes actual\n",
    "//me informe (imprimir por pantalla)\n",
    "//si estoy en invierno, primavera, verano o otoño\n",
    "\n",
    "//Si mesActual = 7 ----> imprime  \"Estamos en verano\"\n",
    "\n",
    "//Enero, Febrero, Marzo : Invierno\n",
    "//Abril, Mayo, Junio : Primavera\n",
    "//Julio, Agosto, Septiembre: Verano\n",
    "//Octubre, Noviembre, Diciembre: Otoño\n",
    "\n"
   ]
  },
  {
   "cell_type": "code",
   "execution_count": 64,
   "id": "a5ca0fdc-c795-4de2-bd51-ae6594793187",
   "metadata": {},
   "outputs": [
    {
     "name": "stdout",
     "output_type": "stream",
     "text": [
      "true gran\n"
     ]
    }
   ],
   "source": [
    "//Operadors && i ||\n",
    "\n",
    "int num = 9;\n",
    "//true si el num està entre 10 i 20 inclosos\n",
    "//o està entre 110 i 120\n",
    "//false si no ho està\n",
    "if (num >= 10 && num <= 20)\n",
    "   System.out.println(\"true petit\");\n",
    "else if(num >= 110 || num <= 120)\n",
    "    System.out.println(\"true gran\");\n",
    "else\n",
    "   System.out.println(\"false\");"
   ]
  },
  {
   "cell_type": "code",
   "execution_count": null,
   "id": "3f2e2485-bee5-49b1-b203-7cb8f2b9dbb0",
   "metadata": {},
   "outputs": [],
   "source": [
    "int v = 55;\n",
    "int w = 12;\n",
    "\n",
    "//HACEIS UNA ESTRUCTURA CONDICIONAL QUE ME IMPRIMA:\n",
    "//\"v es multiplo de w\" si v es multiplo de w\n",
    "//\"v NO es multiplo de w\" en caso contrario\n",
    "\n",
    "//Un numero es múltiplo de otro numero (enteros)\n",
    "//si y solo si el resto de la division (el módulo) es 0."
   ]
  },
  {
   "cell_type": "markdown",
   "id": "7132eba4-9c43-44c6-94bc-f1741afb4c15",
   "metadata": {},
   "source": [
    "## Bloques de código y ámbitos\n",
    "\n",
    "```java\n",
    "{ \n",
    "    //mis instrucciones aquí\n",
    "    //....\n",
    "}\n",
    "```\n",
    "\n",
    "Hay 2 tipos de bloques de código:\n",
    "\n",
    "1. Anónimos\n",
    "2. Que tienen nombre (hay varios tipos)"
   ]
  },
  {
   "cell_type": "code",
   "execution_count": 3,
   "id": "e217e57d-2654-4e26-ab35-330782bb19ce",
   "metadata": {},
   "outputs": [
    {
     "name": "stdout",
     "output_type": "stream",
     "text": [
      "Desde fuera: Valor asignado fuera del bloque\n",
      "Desde dentro 1: Valor asignado fuera del bloque\n",
      "Desde dentro 2: Valor asignado fuera del bloque\n"
     ]
    }
   ],
   "source": [
    "String message1 = \"Valor asignado fuera del bloque\";\n",
    "\n",
    "println(\"Desde fuera: \" + message1);\n",
    "\n",
    "{\n",
    "    println(\"Desde dentro 1: \" + message1);\n",
    "    \n",
    "    {\n",
    "        \n",
    "        println(\"Desde dentro 2: \" + message1);\n",
    "        \n",
    "    }\n",
    "    \n",
    "}\n",
    "\n",
    "//Desde FUERA para DENTRO: FUNCIONA"
   ]
  },
  {
   "cell_type": "code",
   "execution_count": 1,
   "id": "3165a5b5-0646-468a-8c56-5a7434ccc965",
   "metadata": {},
   "outputs": [
    {
     "name": "stdout",
     "output_type": "stream",
     "text": [
      "Desde dentro 1: Valor asignado fuera del bloque\n"
     ]
    },
    {
     "ename": "CompilationException",
     "evalue": "",
     "output_type": "error",
     "traceback": [
      "\u001b[1m\u001b[30m|   \u001b[1m\u001b[30mprintln(\"Desde fuera: \" + \u001b[0m\u001b[1m\u001b[30m\u001b[41mmessage1\u001b[0m\u001b[1m\u001b[30m);\u001b[0m",
      "\u001b[1m\u001b[31mcannot find symbol\u001b[0m",
      "\u001b[1m\u001b[31m  symbol:   variable message1\u001b[0m",
      ""
     ]
    }
   ],
   "source": [
    "\n",
    "{\n",
    "    String message1 = \"Valor asignado dentro del bloque\";\n",
    "    println(\"Desde dentro 1: \" + message1);    \n",
    "}\n",
    "\n",
    "println(\"Desde fuera: \" + message1);\n",
    "\n",
    "//Desde DENTRO para FUERA: NO FUNCIONA"
   ]
  },
  {
   "cell_type": "code",
   "execution_count": null,
   "id": "359280b7-7848-47ab-98f1-fd7fef192f97",
   "metadata": {},
   "outputs": [],
   "source": []
  },
  {
   "cell_type": "markdown",
   "id": "6ce05043-2d33-4167-ae43-1ff8edfbd1bd",
   "metadata": {},
   "source": [
    "## Wrappers de tipos primitivos\n",
    "\n",
    "\n",
    "Cada tipo de dato primitivo tiene su correspondiente _wrapper_.\n",
    "\n",
    "Un _wrapper_ no es más que un nuevo tipo de dato que representa el mismo tipo de dato que su correspondiente\n",
    "primitivo, pero que es NO primitivo.\n",
    "\n",
    "\n",
    "```\n",
    "int    tiene como wrapper el tipo Integer\n",
    "long                              Long\n",
    "char                              Character\n",
    "floar                             Float\n",
    "double                            Double\n",
    "boolean                           Boolean\n",
    "byte                              Byte\n",
    "short                             Short\n",
    "```\n"
   ]
  },
  {
   "cell_type": "code",
   "execution_count": 2,
   "id": "69e8a4c2-136f-46b3-87ca-59c274d9576f",
   "metadata": {},
   "outputs": [
    {
     "name": "stdout",
     "output_type": "stream",
     "text": [
      "50"
     ]
    }
   ],
   "source": [
    "int n = 50;\n",
    "\n",
    "print(n);\n",
    "n = 100;"
   ]
  },
  {
   "cell_type": "code",
   "execution_count": 19,
   "id": "f61de22b-88ca-4e00-af9b-23392083c818",
   "metadata": {},
   "outputs": [
    {
     "ename": "CompilationException",
     "evalue": "",
     "output_type": "error",
     "traceback": [
      "\u001b[1m\u001b[30m|   \u001b[1m\u001b[30mint b = \u001b[0m\u001b[1m\u001b[30m\u001b[41m\u001b[0m\u001b[1m\u001b[30m10_000_000_000_000_000;\u001b[0m",
      "\u001b[1m\u001b[31minteger number too large\u001b[0m",
      ""
     ]
    }
   ],
   "source": [
    "//Calculadora básica para enteros\n",
    "\n",
    "int a = 5_000;\n",
    "int b = 10_000_000_000_000_000;\n",
    "\n",
    "//resultados\n",
    "\n",
    "\n",
    "if(a > Integer.MAX_VALUE || b > Integer.MAX_VALUE)\n",
    "    println(\"Usa valores menores para a y b\");\n",
    "else {\n",
    "    int suma = a + b;\n",
    "    int resta = a - b;\n",
    "    int multi = a * b;\n",
    "    int divi = a / b;\n",
    "    int moduli = a % b;\n",
    "    if(a > 0 && b > 0 && multi < 0){\n",
    "        println(\"Multiplicacion fuera de rango. Por favor introduce\" + \n",
    "                \" valores para a y b menores\");\n",
    "    } else {\n",
    "//Imprimo los resultados\n",
    " println(\"Calculador básica:\");\n",
    " printf(\"%d + %d = %d %n\", a, b, suma);\n",
    " printf(\"%d - %d = %d %n\", a, b, resta);\n",
    " printf(\"%d * %d = %d %n\", a, b, multi);\n",
    " printf(\"%d / %d = %d %n\", a, b, divi);\n",
    " printf(\"%d %% %d = %d %n\", a, b, moduli);\n",
    "    }\n",
    "}"
   ]
  },
  {
   "cell_type": "code",
   "execution_count": 18,
   "id": "12157349-805e-4c8e-993a-bb4a1efc53b9",
   "metadata": {},
   "outputs": [
    {
     "name": "stdout",
     "output_type": "stream",
     "text": [
      "2147483647\n",
      "9223372036854775807\n"
     ]
    }
   ],
   "source": [
    "println(Integer.MAX_VALUE); //4 bytes\n",
    "println(Long.MAX_VALUE); //8 bytes"
   ]
  },
  {
   "cell_type": "code",
   "execution_count": null,
   "id": "a09fe75a-e6e1-4df6-b1df-a74879a79b6b",
   "metadata": {},
   "outputs": [],
   "source": []
  }
 ],
 "metadata": {
  "kernelspec": {
   "display_name": "Java",
   "language": "java",
   "name": "java"
  },
  "language_info": {
   "codemirror_mode": "java",
   "file_extension": ".jshell",
   "mimetype": "text/x-java-source",
   "name": "Java",
   "pygments_lexer": "java",
   "version": "11.0.17+8-LTS"
  }
 },
 "nbformat": 4,
 "nbformat_minor": 5
}
